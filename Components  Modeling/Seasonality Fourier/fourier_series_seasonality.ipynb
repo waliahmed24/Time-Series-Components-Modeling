{
 "cells": [
  {
   "cell_type": "code",
   "execution_count": 77,
   "id": "d8947284",
   "metadata": {},
   "outputs": [],
   "source": [
    "import numpy as np\n",
    "from scipy.optimize import curve_fit\n",
    "from scipy.fftpack import fft, fftfreq\n",
    "import matplotlib.pyplot as plt\n",
    "from sklearn.metrics import mean_squared_error\n",
    "from ipywidgets import interact, IntSlider, FloatSlider\n",
    "from IPython.display import display\n",
    "import warnings\n",
    "warnings.filterwarnings(\"ignore\")"
   ]
  },
  {
   "cell_type": "code",
   "execution_count": 69,
   "id": "60d34bbc",
   "metadata": {},
   "outputs": [],
   "source": [
    "# Step 1: Generate complex synthetic time series data\n",
    "t = np.arange(0, 20, 0.1)  # Time points from 0 to 20 with step size of 0.1\n",
    "y = (5 * np.sin(2 * np.pi * t / 5) +         # Sine wave with period 5\n",
    "     3 * np.cos(2 * np.pi * t / 3) +         # Cosine wave with period 3\n",
    "     2 * np.sin(2 * np.pi * t / 7) +         # Sine wave with period 7\n",
    "     1.5 * np.cos(2 * np.pi * t / 1.5) +     # Cosine wave with period 1.5\n",
    "     np.random.normal(0, 0.5, len(t)))       # Adding random noise"
   ]
  },
  {
   "cell_type": "code",
   "execution_count": 70,
   "id": "8918c973",
   "metadata": {},
   "outputs": [],
   "source": [
    "# Step 2: Define Fourier series function with variable frequency and n_terms\n",
    "def fourier_series(t, *a, dominant_freq):\n",
    "    ret = a[0]  # Constant term\n",
    "    n_terms = (len(a) - 1) // 2\n",
    "    for i in range(1, n_terms + 1):\n",
    "        ret += a[2*i-1] * np.cos(2 * np.pi * i * dominant_freq * t) + a[2*i] * np.sin(2 * np.pi * i * dominant_freq * t)\n",
    "    return ret"
   ]
  },
  {
   "cell_type": "code",
   "execution_count": 75,
   "id": "5d18cd52",
   "metadata": {},
   "outputs": [],
   "source": [
    "# Step 3: Fit Fourier series to the generated data with adjustable n_terms, dominant_freq, and amplitude\n",
    "def fit_fourier_series(n_terms, dominant_freq, amplitude):\n",
    "    # Initial guess and bounds for the coefficients\n",
    "    initial_guess = np.random.rand(2 * n_terms + 1)\n",
    "    \n",
    "    # Define a lambda function to pass the dominant_freq to the curve_fit function\n",
    "    fourier_func = lambda t, *a: fourier_series(t, *a, dominant_freq=dominant_freq)\n",
    "    \n",
    "    # Fit the Fourier series to the generated data\n",
    "    popt, _ = curve_fit(fourier_func, t, y, p0=initial_guess)\n",
    "    \n",
    "    # Generate predictions for a larger time range\n",
    "    t_future = np.arange(0, 25, 0.1)\n",
    "    \n",
    "    # Apply the amplitude scaling factor to the Fourier series\n",
    "    y_pred = amplitude * fourier_series(t_future, *popt, dominant_freq=dominant_freq)\n",
    "    \n",
    "    # Calculate the mean squared error (MSE)\n",
    "    y_pred_mse = amplitude * fourier_series(t, *popt, dominant_freq=dominant_freq)\n",
    "    mse = mean_squared_error(y, y_pred_mse)\n",
    "    print(\"MSE of fitted model on train set:\", round(mse, 2))\n",
    "    \n",
    "    # Plot the original data and the fitted Fourier series\n",
    "    plt.figure(figsize=(14, 8))\n",
    "    plt.scatter(t, y, label='Original Data', color='blue', s=15)\n",
    "    plt.plot(t_future, y_pred, label=f'Fourier Series (n_terms={n_terms}, freq={dominant_freq:.2f}, amp={amplitude})', color='red')\n",
    "    plt.axvline(x=t[-1], linestyle='--', color='green', label='Prediction Start')\n",
    "    plt.legend()\n",
    "    plt.xlabel('Time')\n",
    "    plt.ylabel('Value')\n",
    "    plt.title(f'Fitting Fourier Series (MSE: {mse:.4f})')\n",
    "    plt.title('Fitting Fourier Series with Adjustable n_terms, Frequency, and Amplitude')\n",
    "    plt.show()"
   ]
  },
  {
   "cell_type": "code",
   "execution_count": 78,
   "id": "76cdcb9a",
   "metadata": {},
   "outputs": [
    {
     "data": {
      "application/vnd.jupyter.widget-view+json": {
       "model_id": "705b50d734be4eddba2bc258fb707722",
       "version_major": 2,
       "version_minor": 0
      },
      "text/plain": [
       "interactive(children=(IntSlider(value=5, description='n_terms', max=20), FloatSlider(value=1.0, description='d…"
      ]
     },
     "metadata": {},
     "output_type": "display_data"
    },
    {
     "data": {
      "text/plain": [
       "<function __main__.fit_fourier_series(n_terms, dominant_freq, amplitude)>"
      ]
     },
     "execution_count": 78,
     "metadata": {},
     "output_type": "execute_result"
    }
   ],
   "source": [
    "# Step 4: Create interactive sliders for n_terms, dominant_freq, and amplitude\n",
    "interact(fit_fourier_series,\n",
    "         n_terms=IntSlider(min=0, max=20, step=1, value=5, description='n_terms'),\n",
    "         dominant_freq=FloatSlider(min=0.1, max=3.0, step=0.1, value=1.0, description='dominant_freq'),\n",
    "         amplitude=FloatSlider(min=0.1, max=5.0, step=0.1, value=1.0, description='amplitude'))"
   ]
  },
  {
   "cell_type": "code",
   "execution_count": null,
   "id": "86362432",
   "metadata": {},
   "outputs": [],
   "source": []
  }
 ],
 "metadata": {
  "kernelspec": {
   "display_name": "Python 3 (ipykernel)",
   "language": "python",
   "name": "python3"
  },
  "language_info": {
   "codemirror_mode": {
    "name": "ipython",
    "version": 3
   },
   "file_extension": ".py",
   "mimetype": "text/x-python",
   "name": "python",
   "nbconvert_exporter": "python",
   "pygments_lexer": "ipython3",
   "version": "3.9.7"
  }
 },
 "nbformat": 4,
 "nbformat_minor": 5
}
